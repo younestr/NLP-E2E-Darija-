{
 "cells": [
  {
   "cell_type": "code",
   "execution_count": 16,
   "metadata": {},
   "outputs": [],
   "source": [
    "import pandas as pd \n",
    "import numpy as np \n",
    "import matplotlib.pyplot as plt\n",
    "import sys\n",
    "import os\n",
    "\n",
    "# Add the 'src' directory to the Python path\n",
    "sys.path.append(os.path.abspath(r'C:\\Users\\xelor\\Downloads\\E2E ML project\\src'))\n",
    "\n",
    "# Now you should be able to import from 'src'\n",
    "from preprocess import identify_tweet_language, preprocess, normalize_arabizi\n"
   ]
  },
  {
   "cell_type": "code",
   "execution_count": 17,
   "metadata": {},
   "outputs": [
    {
     "data": {
      "text/html": [
       "<div>\n",
       "<style scoped>\n",
       "    .dataframe tbody tr th:only-of-type {\n",
       "        vertical-align: middle;\n",
       "    }\n",
       "\n",
       "    .dataframe tbody tr th {\n",
       "        vertical-align: top;\n",
       "    }\n",
       "\n",
       "    .dataframe thead th {\n",
       "        text-align: right;\n",
       "    }\n",
       "</style>\n",
       "<table border=\"1\" class=\"dataframe\">\n",
       "  <thead>\n",
       "    <tr style=\"text-align: right;\">\n",
       "      <th></th>\n",
       "      <th>comments</th>\n",
       "      <th>polarity</th>\n",
       "    </tr>\n",
       "  </thead>\n",
       "  <tbody>\n",
       "    <tr>\n",
       "      <th>0</th>\n",
       "      <td>عواشر مبروكه خويا العزيز والدخل عليك بالصحه وا...</td>\n",
       "      <td>NaN</td>\n",
       "    </tr>\n",
       "    <tr>\n",
       "      <th>1</th>\n",
       "      <td>Khoya marhba hawl tzid kaliti video lah iwaf9</td>\n",
       "      <td>NaN</td>\n",
       "    </tr>\n",
       "    <tr>\n",
       "      <th>2</th>\n",
       "      <td>خوة الله يرحم ليكم لوالدين لما شجعوني بشي ابون...</td>\n",
       "      <td>NaN</td>\n",
       "    </tr>\n",
       "    <tr>\n",
       "      <th>3</th>\n",
       "      <td>الله يسعد مساءك بالهنا والراحة وبصحة الله يفرحك</td>\n",
       "      <td>NaN</td>\n",
       "    </tr>\n",
       "    <tr>\n",
       "      <th>4</th>\n",
       "      <td>هاد الحاولي ميت من شحال هاديبقاو غي تصاور ديال...</td>\n",
       "      <td>NaN</td>\n",
       "    </tr>\n",
       "    <tr>\n",
       "      <th>5</th>\n",
       "      <td>7awli ma fham walo</td>\n",
       "      <td>NaN</td>\n",
       "    </tr>\n",
       "    <tr>\n",
       "      <th>6</th>\n",
       "      <td>تلعب اولدي شحال من واحد قاتلووو المطور فوق الحولي</td>\n",
       "      <td>NaN</td>\n",
       "    </tr>\n",
       "    <tr>\n",
       "      <th>7</th>\n",
       "      <td>Khoya marehaba bghibake tareja3e kifema lawale...</td>\n",
       "      <td>NaN</td>\n",
       "    </tr>\n",
       "    <tr>\n",
       "      <th>8</th>\n",
       "      <td>An lwale</td>\n",
       "      <td>NaN</td>\n",
       "    </tr>\n",
       "    <tr>\n",
       "      <th>9</th>\n",
       "      <td>بسم الله الرحمن الرحيم ماشاء الله تبارك الله ل...</td>\n",
       "      <td>NaN</td>\n",
       "    </tr>\n",
       "    <tr>\n",
       "      <th>10</th>\n",
       "      <td>تحاتي خويا مرحبا رجع لمغامرات ديما كتفرجنا</td>\n",
       "      <td>NaN</td>\n",
       "    </tr>\n",
       "    <tr>\n",
       "      <th>11</th>\n",
       "      <td>وامي كرشي</td>\n",
       "      <td>NaN</td>\n",
       "    </tr>\n",
       "    <tr>\n",
       "      <th>12</th>\n",
       "      <td>شحال من واحد كيشوف هاد تعليق بعت تشوف ممتك في ...</td>\n",
       "      <td>NaN</td>\n",
       "    </tr>\n",
       "    <tr>\n",
       "      <th>13</th>\n",
       "      <td>ml3ouba</td>\n",
       "      <td>NaN</td>\n",
       "    </tr>\n",
       "    <tr>\n",
       "      <th>14</th>\n",
       "      <td>ملعوبة ودايزة عواشر</td>\n",
       "      <td>NaN</td>\n",
       "    </tr>\n",
       "    <tr>\n",
       "      <th>15</th>\n",
       "      <td>Vidio 9dim</td>\n",
       "      <td>NaN</td>\n",
       "    </tr>\n",
       "    <tr>\n",
       "      <th>16</th>\n",
       "      <td>Salam cv</td>\n",
       "      <td>NaN</td>\n",
       "    </tr>\n",
       "    <tr>\n",
       "      <th>17</th>\n",
       "      <td>NaN</td>\n",
       "      <td>NaN</td>\n",
       "    </tr>\n",
       "    <tr>\n",
       "      <th>18</th>\n",
       "      <td>ااااخييت علىى مرحبا خياااااااااااااااتتت</td>\n",
       "      <td>NaN</td>\n",
       "    </tr>\n",
       "    <tr>\n",
       "      <th>19</th>\n",
       "      <td>العريان هههههههههههههههههههههههههههههههههههههه...</td>\n",
       "      <td>NaN</td>\n",
       "    </tr>\n",
       "    <tr>\n",
       "      <th>20</th>\n",
       "      <td>Sahb YouTube kamlin labs in jlaba 3lc ? Hhhhh ...</td>\n",
       "      <td>NaN</td>\n",
       "    </tr>\n",
       "    <tr>\n",
       "      <th>21</th>\n",
       "      <td>زكوط  هرب نتا والله</td>\n",
       "      <td>NaN</td>\n",
       "    </tr>\n",
       "    <tr>\n",
       "      <th>22</th>\n",
       "      <td>الله يسهل على اي واحد هنا كنتمنا ليكوم حياة سع...</td>\n",
       "      <td>NaN</td>\n",
       "    </tr>\n",
       "  </tbody>\n",
       "</table>\n",
       "</div>"
      ],
      "text/plain": [
       "                                             comments  polarity\n",
       "0   عواشر مبروكه خويا العزيز والدخل عليك بالصحه وا...       NaN\n",
       "1       Khoya marhba hawl tzid kaliti video lah iwaf9       NaN\n",
       "2   خوة الله يرحم ليكم لوالدين لما شجعوني بشي ابون...       NaN\n",
       "3     الله يسعد مساءك بالهنا والراحة وبصحة الله يفرحك       NaN\n",
       "4   هاد الحاولي ميت من شحال هاديبقاو غي تصاور ديال...       NaN\n",
       "5                                 7awli ma fham walo        NaN\n",
       "6   تلعب اولدي شحال من واحد قاتلووو المطور فوق الحولي       NaN\n",
       "7   Khoya marehaba bghibake tareja3e kifema lawale...       NaN\n",
       "8                                           An lwale        NaN\n",
       "9   بسم الله الرحمن الرحيم ماشاء الله تبارك الله ل...       NaN\n",
       "10         تحاتي خويا مرحبا رجع لمغامرات ديما كتفرجنا       NaN\n",
       "11                                          وامي كرشي       NaN\n",
       "12  شحال من واحد كيشوف هاد تعليق بعت تشوف ممتك في ...       NaN\n",
       "13                                            ml3ouba       NaN\n",
       "14                                ملعوبة ودايزة عواشر       NaN\n",
       "15                                         Vidio 9dim       NaN\n",
       "16                                          Salam cv        NaN\n",
       "17                                                NaN       NaN\n",
       "18           ااااخييت علىى مرحبا خياااااااااااااااتتت       NaN\n",
       "19  العريان هههههههههههههههههههههههههههههههههههههه...       NaN\n",
       "20  Sahb YouTube kamlin labs in jlaba 3lc ? Hhhhh ...       NaN\n",
       "21                                زكوط  هرب نتا والله       NaN\n",
       "22  الله يسهل على اي واحد هنا كنتمنا ليكوم حياة سع...       NaN"
      ]
     },
     "execution_count": 17,
     "metadata": {},
     "output_type": "execute_result"
    }
   ],
   "source": [
    "df = pd.read_csv(r'C:\\Users\\xelor\\Downloads\\E2E ML project\\scrapped_data\\scrapped_comments.csv')\n",
    "df"
   ]
  },
  {
   "cell_type": "code",
   "execution_count": 18,
   "metadata": {},
   "outputs": [
    {
     "data": {
      "text/plain": [
       "<bound method DataFrame.info of                                              comments  polarity\n",
       "0   عواشر مبروكه خويا العزيز والدخل عليك بالصحه وا...       NaN\n",
       "1       Khoya marhba hawl tzid kaliti video lah iwaf9       NaN\n",
       "2   خوة الله يرحم ليكم لوالدين لما شجعوني بشي ابون...       NaN\n",
       "3     الله يسعد مساءك بالهنا والراحة وبصحة الله يفرحك       NaN\n",
       "4   هاد الحاولي ميت من شحال هاديبقاو غي تصاور ديال...       NaN\n",
       "5                                 7awli ma fham walo        NaN\n",
       "6   تلعب اولدي شحال من واحد قاتلووو المطور فوق الحولي       NaN\n",
       "7   Khoya marehaba bghibake tareja3e kifema lawale...       NaN\n",
       "8                                           An lwale        NaN\n",
       "9   بسم الله الرحمن الرحيم ماشاء الله تبارك الله ل...       NaN\n",
       "10         تحاتي خويا مرحبا رجع لمغامرات ديما كتفرجنا       NaN\n",
       "11                                          وامي كرشي       NaN\n",
       "12  شحال من واحد كيشوف هاد تعليق بعت تشوف ممتك في ...       NaN\n",
       "13                                            ml3ouba       NaN\n",
       "14                                ملعوبة ودايزة عواشر       NaN\n",
       "15                                         Vidio 9dim       NaN\n",
       "16                                          Salam cv        NaN\n",
       "17                                                NaN       NaN\n",
       "18           ااااخييت علىى مرحبا خياااااااااااااااتتت       NaN\n",
       "19  العريان هههههههههههههههههههههههههههههههههههههه...       NaN\n",
       "20  Sahb YouTube kamlin labs in jlaba 3lc ? Hhhhh ...       NaN\n",
       "21                                زكوط  هرب نتا والله       NaN\n",
       "22  الله يسهل على اي واحد هنا كنتمنا ليكوم حياة سع...       NaN>"
      ]
     },
     "execution_count": 18,
     "metadata": {},
     "output_type": "execute_result"
    }
   ],
   "source": [
    "df.info"
   ]
  },
  {
   "cell_type": "code",
   "execution_count": 22,
   "metadata": {},
   "outputs": [
    {
     "data": {
      "text/plain": [
       "1"
      ]
     },
     "execution_count": 22,
     "metadata": {},
     "output_type": "execute_result"
    }
   ],
   "source": [
    "df[\"comments\"].isna().sum()"
   ]
  },
  {
   "cell_type": "code",
   "execution_count": 23,
   "metadata": {},
   "outputs": [],
   "source": [
    "df = df.dropna(subset=['comments'])"
   ]
  },
  {
   "cell_type": "code",
   "execution_count": 24,
   "metadata": {},
   "outputs": [
    {
     "data": {
      "text/plain": [
       "0"
      ]
     },
     "execution_count": 24,
     "metadata": {},
     "output_type": "execute_result"
    }
   ],
   "source": [
    "df[\"comments\"].isna().sum()"
   ]
  },
  {
   "cell_type": "code",
   "execution_count": 26,
   "metadata": {},
   "outputs": [
    {
     "data": {
      "text/html": [
       "<div>\n",
       "<style scoped>\n",
       "    .dataframe tbody tr th:only-of-type {\n",
       "        vertical-align: middle;\n",
       "    }\n",
       "\n",
       "    .dataframe tbody tr th {\n",
       "        vertical-align: top;\n",
       "    }\n",
       "\n",
       "    .dataframe thead th {\n",
       "        text-align: right;\n",
       "    }\n",
       "</style>\n",
       "<table border=\"1\" class=\"dataframe\">\n",
       "  <thead>\n",
       "    <tr style=\"text-align: right;\">\n",
       "      <th></th>\n",
       "      <th>comments</th>\n",
       "      <th>polarity</th>\n",
       "      <th>language</th>\n",
       "    </tr>\n",
       "  </thead>\n",
       "  <tbody>\n",
       "    <tr>\n",
       "      <th>0</th>\n",
       "      <td>عواشر مبروكه خويا العزيز والدخل عليك بالصحه وا...</td>\n",
       "      <td>NaN</td>\n",
       "      <td>Arabic</td>\n",
       "    </tr>\n",
       "    <tr>\n",
       "      <th>1</th>\n",
       "      <td>Khoya marhba hawl tzid kaliti video lah iwaf9</td>\n",
       "      <td>NaN</td>\n",
       "      <td>Arabizi</td>\n",
       "    </tr>\n",
       "    <tr>\n",
       "      <th>2</th>\n",
       "      <td>خوة الله يرحم ليكم لوالدين لما شجعوني بشي ابون...</td>\n",
       "      <td>NaN</td>\n",
       "      <td>Arabic</td>\n",
       "    </tr>\n",
       "    <tr>\n",
       "      <th>3</th>\n",
       "      <td>الله يسعد مساءك بالهنا والراحة وبصحة الله يفرحك</td>\n",
       "      <td>NaN</td>\n",
       "      <td>Arabic</td>\n",
       "    </tr>\n",
       "    <tr>\n",
       "      <th>4</th>\n",
       "      <td>هاد الحاولي ميت من شحال هاديبقاو غي تصاور ديال...</td>\n",
       "      <td>NaN</td>\n",
       "      <td>Arabic</td>\n",
       "    </tr>\n",
       "  </tbody>\n",
       "</table>\n",
       "</div>"
      ],
      "text/plain": [
       "                                            comments  polarity language\n",
       "0  عواشر مبروكه خويا العزيز والدخل عليك بالصحه وا...       NaN   Arabic\n",
       "1      Khoya marhba hawl tzid kaliti video lah iwaf9       NaN  Arabizi\n",
       "2  خوة الله يرحم ليكم لوالدين لما شجعوني بشي ابون...       NaN   Arabic\n",
       "3    الله يسعد مساءك بالهنا والراحة وبصحة الله يفرحك       NaN   Arabic\n",
       "4  هاد الحاولي ميت من شحال هاديبقاو غي تصاور ديال...       NaN   Arabic"
      ]
     },
     "execution_count": 26,
     "metadata": {},
     "output_type": "execute_result"
    }
   ],
   "source": [
    "# Identify the language of each comment\n",
    "df = identify_tweet_language(df, src_field='comments')\n",
    "df.head()"
   ]
  },
  {
   "cell_type": "code",
   "execution_count": 36,
   "metadata": {},
   "outputs": [
    {
     "data": {
      "text/plain": [
       "language\n",
       "Arabic     14\n",
       "Arabizi     8\n",
       "Name: count, dtype: int64"
      ]
     },
     "execution_count": 36,
     "metadata": {},
     "output_type": "execute_result"
    }
   ],
   "source": [
    "language_counts = df[\"language\"].value_counts()\n",
    "language_counts"
   ]
  },
  {
   "cell_type": "code",
   "execution_count": 37,
   "metadata": {},
   "outputs": [
    {
     "data": {
      "image/png": "[encoded data removed]",
      "text/plain": [
       "<Figure size 640x480 with 1 Axes>"
      ]
     },
     "metadata": {},
     "output_type": "display_data"
    }
   ],
   "source": [
    "# Create a bar plot for language counts\n",
    "language_counts.plot(kind='bar', color='skyblue')\n",
    "plt.title('Count of Each Language Category')\n",
    "plt.xlabel('Language')\n",
    "plt.ylabel('Count')\n",
    "plt.xticks(rotation=45)\n",
    "plt.show()"
   ]
  },
  {
   "cell_type": "code",
   "execution_count": null,
   "metadata": {},
   "outputs": [],
   "source": [
    "    "
   ]
  }
 ],
 "metadata": {
  "kernelspec": {
   "display_name": "Python 3",
   "language": "python",
   "name": "python3"
  },
  "language_info": {
   "codemirror_mode": {
    "name": "ipython",
    "version": 3
   },
   "file_extension": ".py",
   "mimetype": "text/x-python",
   "name": "python",
   "nbconvert_exporter": "python",
   "pygments_lexer": "ipython3",
   "version": "3.11.2"
  }
 },
 "nbformat": 4,
 "nbformat_minor": 2
}
